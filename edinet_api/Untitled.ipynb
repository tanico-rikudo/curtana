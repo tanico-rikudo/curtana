{
 "cells": [
  {
   "cell_type": "code",
   "execution_count": 2,
   "id": "bf697b66-db58-4e48-8436-ee37fb7fa02b",
   "metadata": {
    "tags": []
   },
   "outputs": [],
   "source": [
    "import psycopg2\n",
    "from psycopg2 import Error, connect\n",
    "\n",
    "connection = psycopg2.connect(user=\"user\",password=\"pass\",host=\"postgresql\",port=\"5432\",database=\"docker\")\n"
   ]
  },
  {
   "cell_type": "code",
   "execution_count": 5,
   "id": "6929cb8a-4f18-4841-b67a-b839dee3f706",
   "metadata": {
    "tags": []
   },
   "outputs": [
    {
     "name": "stdout",
     "output_type": "stream",
     "text": [
      "PostgreSQLサーバの情報\n",
      "{'user': 'user', 'channel_binding': 'prefer', 'dbname': 'docker', 'host': 'postgresql', 'port': '5432', 'tty': '', 'options': '', 'sslmode': 'prefer', 'sslcompression': '0', 'ssl_min_protocol_version': 'TLSv1.2', 'gssencmode': 'prefer', 'krbsrvname': 'postgres', 'target_session_attrs': 'any'} \n",
      "\n",
      "あなたは (24, 'E37781          ', 'S100QIXC        ', '株式会社あいちフィナンシャルグループ                                                                                                                                                                                                                                              ', '220                                                                                                                                                                                                                                                             ', datetime.datetime(2023, 4, 4, 9, 20), True, datetime.datetime(2023, 5, 5, 2, 47, 3, 807460), datetime.datetime(2023, 5, 5, 2, 47, 3, 807460)) に接続されています\n",
      "\n"
     ]
    }
   ],
   "source": [
    "\n",
    "cursor = connection.cursor()\n",
    "\n",
    "print(\"PostgreSQLサーバの情報\")\n",
    "print(connection.get_dsn_parameters(),\"\\n\")\n",
    "\n",
    "cursor.execute(\"SELECT  * from buyback_headline\")\n",
    "\n",
    "record = cursor.fetchone()\n",
    "\n",
    "print(\"あなたは\",record,\"に接続されています\\n\")"
   ]
  },
  {
   "cell_type": "code",
   "execution_count": null,
   "id": "9876db31-63fc-44e6-96d6-14401293ebb0",
   "metadata": {},
   "outputs": [],
   "source": []
  }
 ],
 "metadata": {
  "kernelspec": {
   "display_name": "Python 3 (ipykernel)",
   "language": "python",
   "name": "python3"
  },
  "language_info": {
   "codemirror_mode": {
    "name": "ipython",
    "version": 3
   },
   "file_extension": ".py",
   "mimetype": "text/x-python",
   "name": "python",
   "nbconvert_exporter": "python",
   "pygments_lexer": "ipython3",
   "version": "3.9.16"
  }
 },
 "nbformat": 4,
 "nbformat_minor": 5
}
