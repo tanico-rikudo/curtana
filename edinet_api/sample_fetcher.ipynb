{
 "cells": [
  {
   "cell_type": "code",
   "execution_count": 9,
   "metadata": {
    "tags": []
   },
   "outputs": [
    {
     "name": "stdout",
     "output_type": "stream",
     "text": [
      "The autoreload extension is already loaded. To reload it, use:\n",
      "  %reload_ext autoreload\n"
     ]
    }
   ],
   "source": [
    "%load_ext autoreload\n",
    "%autoreload 2\n"
   ]
  },
  {
   "cell_type": "code",
   "execution_count": null,
   "metadata": {
    "tags": []
   },
   "outputs": [],
   "source": []
  },
  {
   "cell_type": "code",
   "execution_count": 10,
   "metadata": {
    "tags": []
   },
   "outputs": [],
   "source": [
    "# https://disclosure2dl.edinet-fsa.go.jp/guide/static/disclosure/WZEK0110.html\n",
    "# EDINET API仕様書\n",
    "#　様式は固定されている\n",
    "# 託すのみん項目適宜は確認必要。表構造はHTNLなので。。。。。なんか変わりそう。。。。。"
   ]
  },
  {
   "cell_type": "code",
   "execution_count": 11,
   "metadata": {
    "tags": []
   },
   "outputs": [],
   "source": [
    "import os\n",
    "os.environ[\"HOME_PATH\"]  = '/opt/app'"
   ]
  },
  {
   "cell_type": "code",
   "execution_count": 12,
   "metadata": {
    "tags": []
   },
   "outputs": [],
   "source": [
    "from  src.edinet.edinet import *\n",
    "edinet_obj = Edinet()"
   ]
  },
  {
   "cell_type": "code",
   "execution_count": 13,
   "metadata": {
    "tags": []
   },
   "outputs": [],
   "source": [
    "headlines = edinet_obj.fetch_headlines(\"2023-04-06\")\n",
    "buyback_headlines = [ headline for headline in headlines.get(\"results\") if  edinet_obj.filter_headline(headline, doc_type_code=\"220\")]\n",
    "buyback_amend_headlines = [ headline for headline in headlines.get(\"results\") if  edinet_obj.filter_headline(headline, doc_type_code=\"230\")]"
   ]
  },
  {
   "cell_type": "code",
   "execution_count": 14,
   "metadata": {
    "tags": []
   },
   "outputs": [],
   "source": [
    "edinet_obj.save_headline(headlines=headlines)"
   ]
  },
  {
   "cell_type": "code",
   "execution_count": null,
   "metadata": {},
   "outputs": [],
   "source": []
  },
  {
   "cell_type": "code",
   "execution_count": null,
   "metadata": {},
   "outputs": [],
   "source": []
  },
  {
   "cell_type": "code",
   "execution_count": 22,
   "metadata": {
    "tags": []
   },
   "outputs": [],
   "source": []
  },
  {
   "cell_type": "code",
   "execution_count": 14,
   "metadata": {
    "tags": []
   },
   "outputs": [],
   "source": [
    "# buyback_amend_headlines"
   ]
  },
  {
   "cell_type": "code",
   "execution_count": 15,
   "metadata": {
    "tags": []
   },
   "outputs": [],
   "source": [
    "# buyback_headlines"
   ]
  },
  {
   "cell_type": "code",
   "execution_count": 16,
   "metadata": {
    "tags": []
   },
   "outputs": [],
   "source": [
    "zip_file_path = edinet_obj.fetch_xbrl(\"S100QJVX\")"
   ]
  },
  {
   "cell_type": "code",
   "execution_count": 17,
   "metadata": {
    "tags": []
   },
   "outputs": [],
   "source": [
    "obj = edinet_obj.get_xbrl_directories(zip_file_path)"
   ]
  },
  {
   "cell_type": "code",
   "execution_count": 18,
   "metadata": {
    "tags": []
   },
   "outputs": [
    {
     "name": "stdout",
     "output_type": "stream",
     "text": [
      "/opt/app/data/S100QJVX.zip/XBRL/PublicDoc/jpcrp170000-sbr-001_E00776-000_2023-04-06_01_2023-04-06.xbrl\n"
     ]
    },
    {
     "name": "stderr",
     "output_type": "stream",
     "text": [
      "/opt/app/src/edinet/edinet.py:176: GuessedAtParserWarning: No parser was explicitly specified, so I'm using the best available HTML parser for this system (\"lxml\"). This usually isn't a problem, but if you run this code on another system, or in a different virtual environment, it may use a different parser and behave differently.\n",
      "\n",
      "The code that caused this warning is on line 176 of the file /opt/app/src/edinet/edinet.py. To get rid of this warning, pass the additional argument 'features=\"lxml\"' to the BeautifulSoup constructor.\n",
      "\n",
      "  soup = BeautifulSoup(html)\n"
     ]
    }
   ],
   "source": [
    "result = edinet_obj.parse_buyback_xbrf_form(obj[0])"
   ]
  },
  {
   "cell_type": "code",
   "execution_count": 19,
   "metadata": {
    "tags": []
   },
   "outputs": [
    {
     "data": {
      "text/plain": [
       "{'shareholder_data': {'acquition_type': 'shareholder',\n",
       "  'daily': [],\n",
       "  'total': {}},\n",
       " 'board_data': {'acquition_type': 'board',\n",
       "  'daily': [{'date': '0301', 'qty': 27600, 'value': 522658500},\n",
       "   {'date': '0302', 'qty': 17800, 'value': 339995000},\n",
       "   {'date': '0303', 'qty': 7700, 'value': 150235000},\n",
       "   {'date': '0306', 'qty': 12500, 'value': 251272000},\n",
       "   {'date': '0307', 'qty': 17900, 'value': 363203500},\n",
       "   {'date': '0308', 'qty': 17500, 'value': 353269000},\n",
       "   {'date': '0309', 'qty': 17000, 'value': 348361500},\n",
       "   {'date': '0310', 'qty': 24200, 'value': 495842000},\n",
       "   {'date': '0313', 'qty': 19000, 'value': 385550500},\n",
       "   {'date': '0314', 'qty': 12800, 'value': 256916000},\n",
       "   {'date': '0315', 'qty': 25200, 'value': 507141500},\n",
       "   {'date': '0316', 'qty': 7500, 'value': 150620500},\n",
       "   {'date': '0317', 'qty': 21500, 'value': 433483500},\n",
       "   {'date': '0320', 'qty': 32600, 'value': 650940500},\n",
       "   {'date': '0322', 'qty': 8000, 'value': 164178000},\n",
       "   {'date': '0323', 'qty': 15000, 'value': 305520000},\n",
       "   {'date': '0324', 'qty': 10200, 'value': 211924500}],\n",
       "  'total': {'qty': 294000, 'value': 5891111500}}}"
      ]
     },
     "execution_count": 19,
     "metadata": {},
     "output_type": "execute_result"
    }
   ],
   "source": [
    "result"
   ]
  },
  {
   "cell_type": "code",
   "execution_count": 23,
   "metadata": {
    "tags": []
   },
   "outputs": [],
   "source": [
    "buyback_headline = buyback_headlines[0]\n",
    "buyback_headline.get(\"id\")"
   ]
  },
  {
   "cell_type": "code",
   "execution_count": 24,
   "metadata": {
    "tags": []
   },
   "outputs": [
    {
     "data": {
      "text/plain": [
       "{'seqNumber': 93,\n",
       " 'docID': 'S100QJVX',\n",
       " 'edinetCode': 'E00776',\n",
       " 'secCode': '40630',\n",
       " 'JCN': '5010001008680',\n",
       " 'filerName': '信越化学工業株式会社',\n",
       " 'fundCode': None,\n",
       " 'ordinanceCode': '010',\n",
       " 'formCode': '170000',\n",
       " 'docTypeCode': '220',\n",
       " 'periodStart': None,\n",
       " 'periodEnd': None,\n",
       " 'submitDateTime': '2023-04-06 09:22',\n",
       " 'docDescription': '自己株券買付状況報告書（法２４条の６第１項に基づくもの）',\n",
       " 'issuerEdinetCode': None,\n",
       " 'subjectEdinetCode': None,\n",
       " 'subsidiaryEdinetCode': None,\n",
       " 'currentReportReason': None,\n",
       " 'parentDocID': None,\n",
       " 'opeDateTime': None,\n",
       " 'withdrawalStatus': '0',\n",
       " 'docInfoEditStatus': '0',\n",
       " 'disclosureStatus': '0',\n",
       " 'xbrlFlag': '1',\n",
       " 'pdfFlag': '1',\n",
       " 'attachDocFlag': '0',\n",
       " 'englishDocFlag': '0',\n",
       " 'csvFlag': '1',\n",
       " 'legalStatus': '1'}"
      ]
     },
     "execution_count": 24,
     "metadata": {},
     "output_type": "execute_result"
    }
   ],
   "source": [
    "Edinet.s"
   ]
  },
  {
   "cell_type": "code",
   "execution_count": null,
   "metadata": {},
   "outputs": [],
   "source": []
  }
 ],
 "metadata": {
  "kernelspec": {
   "display_name": "Python 3 (ipykernel)",
   "language": "python",
   "name": "python3"
  },
  "language_info": {
   "codemirror_mode": {
    "name": "ipython",
    "version": 3
   },
   "file_extension": ".py",
   "mimetype": "text/x-python",
   "name": "python",
   "nbconvert_exporter": "python",
   "pygments_lexer": "ipython3",
   "version": "3.9.16"
  }
 },
 "nbformat": 4,
 "nbformat_minor": 4
}
