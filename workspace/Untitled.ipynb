{
 "cells": [
  {
   "cell_type": "code",
   "execution_count": 1,
   "metadata": {
    "tags": []
   },
   "outputs": [],
   "source": [
    "# https://disclosure2dl.edinet-fsa.go.jp/guide/static/disclosure/WZEK0110.html\n",
    "# EDINET API仕様書\n",
    "#　様式は固定されている\n",
    "# 託すのみん項目適宜は確認必要。表構造はHTNLなので。。。。。なんか変わりそう。。。。。"
   ]
  },
  {
   "cell_type": "code",
   "execution_count": 4,
   "metadata": {
    "tags": []
   },
   "outputs": [],
   "source": [
    "import requests\n"
   ]
  },
  {
   "cell_type": "code",
   "execution_count": 5,
   "metadata": {
    "tags": []
   },
   "outputs": [],
   "source": [
    "import json\n"
   ]
  },
  {
   "cell_type": "code",
   "execution_count": null,
   "metadata": {},
   "outputs": [],
   "source": [
    "# buyback_amend_headlines = [ headline for headline in headlines.get(\"results\") if  filter_headline(headline, docTypeCode=\"230\")]"
   ]
  },
  {
   "cell_type": "code",
   "execution_count": 163,
   "metadata": {
    "tags": []
   },
   "outputs": [
    {
     "data": {
      "text/plain": [
       "['/workspace/data/S100QIXC.zip',\n",
       " '/workspace/data/S100QJI0.zip',\n",
       " '/workspace/data/S100QJIA.zip']"
      ]
     },
     "execution_count": 163,
     "metadata": {},
     "output_type": "execute_result"
    }
   ],
   "source": [
    "filepaths"
   ]
  },
  {
   "cell_type": "code",
   "execution_count": 188,
   "metadata": {
    "tags": []
   },
   "outputs": [
    {
     "data": {
      "text/plain": [
       "['/workspace/data/S100QIXC.zip',\n",
       " '/workspace/data/S100QJI0.zip',\n",
       " '/workspace/data/S100QJIA.zip']"
      ]
     },
     "execution_count": 188,
     "metadata": {},
     "output_type": "execute_result"
    }
   ],
   "source": [
    "filepaths"
   ]
  },
  {
   "cell_type": "code",
   "execution_count": 189,
   "metadata": {
    "tags": []
   },
   "outputs": [
    {
     "data": {
      "text/plain": [
       "['/workspace/data/S100QJIA.zip/XBRL/PublicDoc/jpcrp170000-sbr-001_E02049-000_2023-04-04_01_2023-04-04.xbrl']"
      ]
     },
     "execution_count": 189,
     "metadata": {},
     "output_type": "execute_result"
    }
   ],
   "source": [
    "xbrf_files"
   ]
  },
  {
   "cell_type": "code",
   "execution_count": null,
   "metadata": {
    "tags": []
   },
   "outputs": [],
   "source": []
  },
  {
   "cell_type": "code",
   "execution_count": 186,
   "metadata": {
    "tags": []
   },
   "outputs": [],
   "source": []
  },
  {
   "cell_type": "code",
   "execution_count": 144,
   "metadata": {
    "tags": []
   },
   "outputs": [],
   "source": [
    "# buyback_amend_headlines"
   ]
  },
  {
   "cell_type": "code",
   "execution_count": 145,
   "metadata": {
    "tags": []
   },
   "outputs": [],
   "source": [
    "# buyback_headlines"
   ]
  },
  {
   "cell_type": "code",
   "execution_count": 146,
   "metadata": {
    "tags": []
   },
   "outputs": [],
   "source": [
    "# buyback_headlines[0]"
   ]
  },
  {
   "cell_type": "code",
   "execution_count": 164,
   "metadata": {
    "tags": []
   },
   "outputs": [],
   "source": [
    "\n"
   ]
  },
  {
   "cell_type": "code",
   "execution_count": 158,
   "metadata": {
    "tags": []
   },
   "outputs": [],
   "source": []
  },
  {
   "cell_type": "code",
   "execution_count": 38,
   "metadata": {
    "tags": []
   },
   "outputs": [],
   "source": [
    "xbrl_file = file_datas["
   ]
  },
  {
   "cell_type": "code",
   "execution_count": 58,
   "metadata": {
    "tags": []
   },
   "outputs": [],
   "source": []
  },
  {
   "cell_type": "code",
   "execution_count": 67,
   "metadata": {
    "tags": []
   },
   "outputs": [],
   "source": []
  },
  {
   "cell_type": "code",
   "execution_count": 142,
   "metadata": {
    "tags": []
   },
   "outputs": [],
   "source": [
    "\n",
    "import re\n"
   ]
  },
  {
   "cell_type": "code",
   "execution_count": 143,
   "metadata": {
    "tags": []
   },
   "outputs": [
    {
     "name": "stdout",
     "output_type": "stream",
     "text": [
      "Data: {'date': '0301', 'qty': 53900, 'value': 140719000}\n",
      "Data: {'date': '0302', 'qty': 69500, 'value': 184145500}\n",
      "Data: {'date': '0303', 'qty': 39400, 'value': 104786100}\n",
      "Data: {'date': '0306', 'qty': 26800, 'value': 70225400}\n",
      "Sum : {'qty': 189600, 'value': 499876000}\n"
     ]
    },
    {
     "data": {
      "text/plain": [
       "{'daily': [{'date': '0301', 'qty': 53900, 'value': 140719000},\n",
       "  {'date': '0302', 'qty': 69500, 'value': 184145500},\n",
       "  {'date': '0303', 'qty': 39400, 'value': 104786100},\n",
       "  {'date': '0306', 'qty': 26800, 'value': 70225400}],\n",
       " 'total': {'qty': 189600, 'value': 499876000}}"
      ]
     },
     "execution_count": 143,
     "metadata": {},
     "output_type": "execute_result"
    }
   ],
   "source": [
    "parse_table(html)"
   ]
  },
  {
   "cell_type": "code",
   "execution_count": 63,
   "metadata": {
    "tags": []
   },
   "outputs": [
    {
     "ename": "SyntaxError",
     "evalue": "'break' outside loop (1187713185.py, line 12)",
     "output_type": "error",
     "traceback": [
      "\u001b[0;36m  Cell \u001b[0;32mIn[63], line 12\u001b[0;36m\u001b[0m\n\u001b[0;31m    break\u001b[0m\n\u001b[0m    ^\u001b[0m\n\u001b[0;31mSyntaxError\u001b[0m\u001b[0;31m:\u001b[0m 'break' outside loop\n"
     ]
    }
   ],
   "source": [
    "\n",
    "# Search base on upper level tr\n",
    "\n",
    "parent_report_table = parent_report_table.find_element_by_xpath('..')\n",
    "report_rows = parent_report_table.find_elements_by_tag_name('tr')\n",
    "report_result = {'daily':[],'total':None}\n",
    "logging.info(\"Find {0} rows. Look up rows\".format(len(report_rows)))\n",
    "\n",
    "# replace text\n",
    "table_strs = parent_report_table.text.replace(\",\",\"\").replace(\" \",\"\").split(\"\\n\")\n",
    "table_strs = [ _str  for _str in [re.sub(bar_pattern,\"\",_str) for _str in table_strs] if _str != \"\"]\n",
    "logging.info(table_strs)\n",
    "try:\n",
    "    sum_idx = table_strs.index(\"計\")\n",
    "    report_rows=table_strs[[ _i  for _i, _str in enumerate(table_strs) if '報告月における取得自己株式' in _str ][0]+1:sum_idx]\n",
    "    for _i in range(0,len(report_rows),3):\n",
    "        date_col_txt =  report_rows[_i]\n",
    "        if \"月\" in date_col_txt:\n",
    "            if \"日\" in date_col_txt:\n",
    "                if  re.match(bar_pattern, date_col_txt) is None and re.sub(void_dt_pattern, '', date_col_txt) != '':\n",
    "                    try:\n",
    "                        month = str(int(date_col_txt.split('月')[0])).zfill(2)\n",
    "                        day = str(int(date_col_txt.split('月')[1].split('日')[0])).zfill(2)\n",
    "                        dt = month+day\n",
    "                        qty = int(report_rows[_i+1].replace(',', ''))\n",
    "                        value = int(report_rows[_i+2].replace(',', ''))\n",
    "                        if qty is not None:\n",
    "                            report_result['daily'].append({'date':dt,'qty':qty,'value':value})\n",
    "                            logging.info(\"Data: {0}\".format(report_result['daily'][-1]))\n",
    "                        else:\n",
    "                            logging.info(\"Data: No data\")\n",
    "                    except:\n",
    "                        logging.warning(\"No Daily\")\n",
    "\n",
    "    # sum\n",
    "    qty_col_txt = table_strs[sum_idx+1]\n",
    "    if  re.match(bar_pattern, qty_col_txt) is None:\n",
    "        try:\n",
    "            sum_qty = int(qty_col_txt.replace(',', ''))\n",
    "            sum_value = int(table_strs[sum_idx+2].replace(',', ''))\n",
    "            if sum_qty is not None:\n",
    "                report_result['total'] = {'qty':sum_qty,'value':sum_value}\n",
    "                logging.info(\"Sum : {0}\".format(report_result['total']))\n",
    "            else:\n",
    "                logging.info(\"Sum: No data\")\n",
    "        except Exception as e:\n",
    "            logging.warning(\"No Daily sum\")\n",
    "    else:\n",
    "        report_result['total'] = {'qty':0,'value':0}\n",
    "\n",
    "    report_result['daily_total'] = len(report_result['daily'])\n",
    "    content_result[type_no] = report_result\n",
    "    logging.info(\"Daily report: {0} rows are fetched.\".format(len(report_result['daily'])))\n",
    "except Exception as e:\n",
    "    logging.warning(\"No 計\")"
   ]
  },
  {
   "cell_type": "code",
   "execution_count": 193,
   "metadata": {
    "tags": []
   },
   "outputs": [],
   "source": [
    "# model_xbrl.facts"
   ]
  },
  {
   "cell_type": "code",
   "execution_count": null,
   "metadata": {},
   "outputs": [],
   "source": []
  }
 ],
 "metadata": {
  "kernelspec": {
   "display_name": "Python 3 (ipykernel)",
   "language": "python",
   "name": "python3"
  },
  "language_info": {
   "codemirror_mode": {
    "name": "ipython",
    "version": 3
   },
   "file_extension": ".py",
   "mimetype": "text/x-python",
   "name": "python",
   "nbconvert_exporter": "python",
   "pygments_lexer": "ipython3",
   "version": "3.9.7"
  }
 },
 "nbformat": 4,
 "nbformat_minor": 4
}
